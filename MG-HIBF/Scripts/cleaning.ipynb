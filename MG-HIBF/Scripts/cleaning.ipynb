{
 "cells": [
  {
   "cell_type": "code",
   "execution_count": 53,
   "metadata": {},
   "outputs": [],
   "source": [
    "import numpy as np\n",
    "import os\n",
    "import pandas as pd\n",
    "from pathlib import Path"
   ]
  },
  {
   "cell_type": "code",
   "execution_count": 54,
   "metadata": {},
   "outputs": [],
   "source": [
    "# path_to_dir_ = Path(\"/Users/manuez42/Desktop/A2-job-granularity/MG-HIBF/general_results_fonda/\")\n",
    "\n",
    "# # name_ = \"viral\"\n",
    "# names_ = [\"viral\", \"human\", \"archea\", \n",
    "#           \"bacteria30\", \"bacteria58\", \"bacteria88\", \"bacteria125\"]\n",
    "# # final_ = \"general_results_viral500m.tsv\"\n",
    "# finals_ = [\"general_results_viral500m.tsv\", \n",
    "#            \"general_results_human9g.tsv\", \n",
    "#            \"general_results_archea1.4g.tsv\",\n",
    "#            \"general_results_bacteria30g.tsv\",\n",
    "#            \"general_results_bacteria58g.tsv\",\n",
    "#            \"general_results_bacteria88g.tsv\",\n",
    "#            \"general_results_bacteria125g.tsv\",\n",
    "#            \"dummy\"]\n",
    "# path_finals = [Path(\"/Users/manuez42/Desktop/A2-job-granularity/MG-HIBF/general_results_fonda/general_results_viral500m.tsv\"),\n",
    "#                Path(\"/Users/manuez42/Desktop/A2-job-granularity/MG-HIBF/general_results_fonda/general_results_human9g.tsv\"),\n",
    "#                Path(\"/Users/manuez42/Desktop/A2-job-granularity/MG-HIBF/general_results_fonda/general_results_archea1.4g.tsv\"),\n",
    "#                Path(\"/Users/manuez42/Desktop/A2-job-granularity/MG-HIBF/general_results_fonda/general_results_bacteria30g.tsv\"),\n",
    "#                Path(\"/Users/manuez42/Desktop/A2-job-granularity/MG-HIBF/general_results_fonda/general_results_bacteria58g.tsv\"),\n",
    "#                Path(\"/Users/manuez42/Desktop/A2-job-granularity/MG-HIBF/general_results_fonda/general_results_bacteria88g.tsv\"),\n",
    "#                Path(\"/Users/manuez42/Desktop/A2-job-granularity/MG-HIBF/general_results_fonda/general_results_bacteria125g.tsv\")]\n",
    "# # path_final = Path(\"/Users/manuez42/Documents/results_fonda/general_results_viral500m.tsv\")\n",
    "\n",
    "\n",
    "    \n",
    "    "
   ]
  },
  {
   "cell_type": "code",
   "execution_count": 55,
   "metadata": {},
   "outputs": [],
   "source": [
    "def convert_size(size):\n",
    "    size = str(size)\n",
    "    if 'G' in size:\n",
    "        return float(''.join(c for c in size if (c.isdigit() or c == ',' or c == '.'))) * 1024\n",
    "    elif 'M' in size:\n",
    "        return float(''.join(c for c in size if (c.isdigit() or c == ',' or c == '.')))\n",
    "    else:\n",
    "        return float(''.join(c for c in size if (c.isdigit() or c == ',' or c == '.')))\n",
    "\n",
    "def prepare_data(path_to_dir, name, final, path_final):\n",
    "    filenames = filter(lambda x: (name in x) and (x != final), os.listdir(path_to_dir))\n",
    "    file_paths = map((lambda x: path_to_dir / x), filenames)\n",
    "    data = pd.read_csv(path_final, sep='\\t')\n",
    "    # pd.set_option('display.max_rows', None)\n",
    "    # print(data)\n",
    "    \n",
    "    for file in file_paths:\n",
    "        # print(file)\n",
    "        df = pd.read_csv(file, sep='\\t')\n",
    "        df = df.drop(\"bin_id\", axis=1)\n",
    "        df = df.dropna(how='any')\n",
    "        \n",
    "        df = df.rename(columns={\"Data Size in mb\": \"Data Size\"})\n",
    "        df = df.rename(columns={\"Nodes\": \"Node Name\"})\n",
    "        \n",
    "        df[\"Data Size\"] = df[\"Data Size\"].apply(convert_size)        \n",
    "        df[\"Node Name\"] = df[\"Node Name\"].str.replace('cmp', '').astype(int)\n",
    "\n",
    "        data = pd.concat([data, df], axis=0)\n",
    "        \n",
    "    data = data.reset_index(drop=True)\n",
    "    data.to_csv(path_final, index=False, sep='\\t')     "
   ]
  },
  {
   "cell_type": "code",
   "execution_count": 56,
   "metadata": {},
   "outputs": [],
   "source": [
    "for i in range(0,7):\n",
    "    prepare_data(path_to_dir_, names_[i], finals_[7], path_finals[i])"
   ]
  },
  {
   "cell_type": "code",
   "execution_count": null,
   "metadata": {},
   "outputs": [],
   "source": []
  }
 ],
 "metadata": {
  "kernelspec": {
   "display_name": "Python 3",
   "language": "python",
   "name": "python3"
  },
  "language_info": {
   "codemirror_mode": {
    "name": "ipython",
    "version": 3
   },
   "file_extension": ".py",
   "mimetype": "text/x-python",
   "name": "python",
   "nbconvert_exporter": "python",
   "pygments_lexer": "ipython3",
   "version": "3.11.3"
  },
  "orig_nbformat": 4
 },
 "nbformat": 4,
 "nbformat_minor": 2
}
