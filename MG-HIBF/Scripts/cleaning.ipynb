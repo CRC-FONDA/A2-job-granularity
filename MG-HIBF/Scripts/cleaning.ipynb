{
 "cells": [
  {
   "cell_type": "code",
   "execution_count": 1,
   "metadata": {},
   "outputs": [],
   "source": [
    "import numpy\n",
    "import os\n",
    "import pandas as pd\n",
    "from pathlib import Path"
   ]
  },
  {
   "cell_type": "code",
   "execution_count": 8,
   "metadata": {},
   "outputs": [],
   "source": [
    "path_to_dir_ = Path(\"/Users/manuez42/Desktop/A2-job-granularity/MG-HIBF/general_results_fonda/final3\")\n",
    "\n",
    "# # name_ = \"viral\"\n",
    "names_ = [\"viral\", \"human\", \"archea\", \n",
    "          \"bacteria_30\", \"bacteria_58\", \"bacteria_88\", \"bacteria_125\"]\n",
    "# # final_ = \"general_results_viral500m.tsv\"\n",
    "finals_ = [\"general_results_viral500m.tsv\", \n",
    "           \"general_results_human9g.tsv\", \n",
    "           \"general_results_archea1.4g.tsv\",\n",
    "           \"general_results_bacteria30g.tsv\",\n",
    "           \"general_results_bacteria58g.tsv\",\n",
    "           \"general_results_bacteria88g.tsv\",\n",
    "           \"general_results_bacteria125g.tsv\",\n",
    "           \"dummy\"]\n",
    "path_finals = [Path(\"/Users/manuez42/Desktop/A2-job-granularity/MG-HIBF/general_results_fonda/general_results_viral500m.tsv\"),\n",
    "               Path(\"/Users/manuez42/Desktop/A2-job-granularity/MG-HIBF/general_results_fonda/general_results_human9g.tsv\"),\n",
    "               Path(\"/Users/manuez42/Desktop/A2-job-granularity/MG-HIBF/general_results_fonda/general_results_archea1.4g.tsv\"),\n",
    "               Path(\"/Users/manuez42/Desktop/A2-job-granularity/MG-HIBF/general_results_fonda/general_results_bacteria30g.tsv\"),\n",
    "               Path(\"/Users/manuez42/Desktop/A2-job-granularity/MG-HIBF/general_results_fonda/general_results_bacteria58g.tsv\"),\n",
    "               Path(\"/Users/manuez42/Desktop/A2-job-granularity/MG-HIBF/general_results_fonda/general_results_bacteria88g.tsv\"),\n",
    "               Path(\"/Users/manuez42/Desktop/A2-job-granularity/MG-HIBF/general_results_fonda/general_results_bacteria125g.tsv\")]\n",
    "# path_final = Path(\"/Users/manuez42/Documents/results_fonda/general_results_viral500m.tsv\")    "
   ]
  },
  {
   "cell_type": "code",
   "execution_count": 9,
   "metadata": {},
   "outputs": [],
   "source": [
    "def convert_size(size):\n",
    "    size = str(size)\n",
    "    if 'G' in size:\n",
    "        return float(''.join(ctp(c) for c in size if (c.isdigit() or c == ',' or c == '.'))) * 1024\n",
    "    elif 'M' in size:\n",
    "        return float(''.join(ctp(c) for c in size if (c.isdigit() or c == ',' or c == '.')))\n",
    "    else:\n",
    "        return float(''.join(ctp(c) for c in size if (c.isdigit() or c == ',' or c == '.')))\n",
    "\n",
    "def ctp(c):\n",
    "    if c == ',':\n",
    "        c = '.'\n",
    "    return c\n",
    "\n",
    "def prepare_data(path_to_dir, name, final, path_final):\n",
    "    filenames = filter(lambda x: (name in x) and (x != final), os.listdir(path_to_dir))\n",
    "    file_paths = map((lambda x: path_to_dir / x), filenames)\n",
    "    data = pd.read_csv(path_final, sep='\\t')\n",
    "    pd.set_option('display.max_rows', None)\n",
    "    # print(data)\n",
    "    \n",
    "    for file in file_paths:\n",
    "    # file = file_paths[0]\n",
    "    # if file:\n",
    "        # print(file)\n",
    "        df = pd.read_csv(file)\n",
    "        df = df.drop(\"bin_id\", axis=1)\n",
    "        df = df.dropna(how='any')\n",
    "        \n",
    "        df = df.rename(columns={\"Data Size in mb\": \"Data Size\"})\n",
    "        df = df.rename(columns={\"Nodes\": \"Node Name\"})\n",
    "        \n",
    "        df[\"Data Size\"] = df[\"Data Size\"].apply(convert_size)        \n",
    "        df[\"Node Name\"] = df[\"Node Name\"].str.replace('cmp', '').astype(int)\n",
    "\n",
    "        data = pd.concat([data, df], axis=0)\n",
    "        \n",
    "    data.to_csv(path_final, index=False, sep='\\t')     "
   ]
  },
  {
   "cell_type": "code",
   "execution_count": 10,
   "metadata": {},
   "outputs": [],
   "source": [
    "# for i in range(0,7):\n",
    "#     prepare_data(path_to_dir_, names_[i], finals_[i], path_finals[i])"
   ]
  },
  {
   "cell_type": "code",
   "execution_count": 19,
   "metadata": {},
   "outputs": [],
   "source": [
    "# scp -r manuez42@allegro.imp.fu-berlin.de:/data/scratch/manuez42/A2-job-granularity/MG-HIBF/final2/ /Users/manuez42/Desktop/A2-job-granularity/MG-HIBF/general_results_fonda/\n",
    "# scp -r manuez42@allegro.imp.fu-berlin.de:/data/scratch/manuez42/A2-job-granularity/MG-HIBF/final3/ /Users/manuez42/Desktop/A2-job-granularity/MG-HIBF/general_results_fonda/\n",
    "# scp -r manuez42@allegro.imp.fu-berlin.de:/data/scratch/manuez42/A2-job-granularity/MG-HIBF/final4/ /Users/manuez42/Desktop/A2-job-granularity/MG-HIBF/general_results_fonda/\n",
    "\n",
    "\n",
    "\"\"\"\n",
    "at least 10 per node \n",
    "\n",
    "record per nodes\n",
    "\"\"\"\n",
    "\n",
    "\n"
   ]
  },
  {
   "cell_type": "code",
   "execution_count": 11,
   "metadata": {},
   "outputs": [],
   "source": [
    "def clean_data(path_to_f, path_to_c, finalname, threshold):\n",
    "    data = pd.read_csv(path_to_f, sep='\\t')\n",
    "    \n",
    "    #create stat\n",
    "    stat = data['Node Name'].value_counts()\n",
    "    stat = pd.DataFrame({'Node_Name': stat.index, \n",
    "                         'number_of_datapoints': stat.values})\n",
    "    stat['dropped'] = 0\n",
    "    stat['threshold'] = threshold\n",
    "    stat['dataset'] = finalname\n",
    "\n",
    "    stat = stat.sort_values(by='Node_Name')\n",
    "\n",
    "    #drop unnecessary nodes and update stat\n",
    "    rows_to_keep = []\n",
    "    for _, row in stat.iterrows():\n",
    "        if row['number_of_datapoints'] < threshold:\n",
    "            stat.loc[stat['Node_Name'] == row['Node_Name'], 'dropped'] = 1\n",
    "        else:\n",
    "            rows_to_keep.append(row['Node_Name'])\n",
    "    \n",
    "    data = data[data['Node Name'].isin(rows_to_keep)]\n",
    "    \n",
    "    # print(rows_to_keep)\n",
    "    \n",
    "    data.to_csv(path_to_c/('cleand_' + finalname), index=False, sep='\\t')\n",
    "    \n",
    "    return stat\n"
   ]
  },
  {
   "cell_type": "code",
   "execution_count": 12,
   "metadata": {},
   "outputs": [
    {
     "name": "stdout",
     "output_type": "stream",
     "text": [
      "[213, 215, 216, 217, 219, 220, 221, 222, 223, 224, 225, 226, 227, 228, 239, 240, 241, 242, 244, 246, 247, 248]\n",
      "[]\n",
      "[213, 215, 216, 217, 218, 219, 220, 221, 222, 223, 224, 225, 226, 227, 228, 240, 241, 242, 244, 246, 247, 248]\n",
      "[213, 215, 216, 217, 218, 219, 220, 221, 222, 223, 224, 225, 226, 227, 228, 239, 240, 241, 242, 244, 246, 247, 248]\n",
      "[213, 215, 216, 217, 219, 220, 221, 222, 223, 224, 225, 226, 227, 228, 240, 241, 242, 244, 246, 247, 248]\n",
      "[213, 215, 216, 217, 218, 219, 220, 221, 222, 223, 224, 225, 226, 227, 228, 239, 240, 241, 242, 244, 246, 247, 248]\n",
      "[213, 215, 216, 217, 218, 219, 220, 221, 222, 223, 224, 225, 226, 227, 228, 239, 240, 241, 242, 244, 246, 247, 248]\n"
     ]
    }
   ],
   "source": [
    "stat_file = Path(\"/Users/manuez42/Desktop/A2-job-granularity/MG-HIBF/general_results_fonda/clean/stats.tsv\")\n",
    "path_to_clean = Path(\"/Users/manuez42/Desktop/A2-job-granularity/MG-HIBF/general_results_fonda/clean\")\n",
    "\n",
    "stat_col = ['dataset', 'Node_Name', 'number_of_datapoints', 'threshold', 'dropped']\n",
    "stat_overall = pd.DataFrame(columns=stat_col)\n",
    "\n",
    "\n",
    "threshold = 10\n",
    "\n",
    "for i in range(0,7):\n",
    "    stat_single = clean_data(path_finals[i], path_to_clean, finals_[i], threshold)\n",
    "    stat_overall = pd.concat([stat_overall, stat_single], ignore_index=True)\n",
    "\n",
    "\n",
    "stat_overall.to_csv(stat_file, index=False, sep='\\t')  \n",
    "    "
   ]
  }
 ],
 "metadata": {
  "kernelspec": {
   "display_name": "Python 3",
   "language": "python",
   "name": "python3"
  },
  "language_info": {
   "codemirror_mode": {
    "name": "ipython",
    "version": 3
   },
   "file_extension": ".py",
   "mimetype": "text/x-python",
   "name": "python",
   "nbconvert_exporter": "python",
   "pygments_lexer": "ipython3",
   "version": "3.11.3"
  },
  "orig_nbformat": 4
 },
 "nbformat": 4,
 "nbformat_minor": 2
}
