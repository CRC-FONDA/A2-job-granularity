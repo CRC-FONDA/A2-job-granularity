{
 "cells": [
  {
   "cell_type": "code",
   "execution_count": 141,
   "metadata": {},
   "outputs": [],
   "source": [
    "# why??\n",
    "\n",
    "\n",
    "# #!pip install modestga --upgrade --quiet\n",
    "# #!pip install deap --upgrade --quiet\n",
    "\n",
    "# import warnings\n",
    "# warnings.filterwarnings(\"ignore\")"
   ]
  },
  {
   "cell_type": "code",
   "execution_count": 142,
   "id": "d3aafd04",
   "metadata": {},
   "outputs": [],
   "source": [
    "import numpy as np\n",
    "import pandas as pd\n",
    "from sklearn.metrics import mean_squared_error"
   ]
  },
  {
   "cell_type": "code",
   "execution_count": 143,
   "id": "98e30171",
   "metadata": {},
   "outputs": [],
   "source": [
    "\"\"\"\n",
    "Init\n",
    "\"\"\"\n",
    "\n",
    "#===========================================================\n",
    "#                   Read Files\n",
    "#===========================================================\n",
    "\n",
    "# Files\n",
    "file = pd.ExcelFile('Result-test.xlsx')\n",
    "genomes_df= pd.read_csv('overview-test.csv')\n",
    "\n",
    "# Nodeproperty\n",
    "df_node_property = pd.read_excel(file, 'Node_Property')\n",
    "node_names_node_property = df_node_property['Node Name'].values\n",
    "memory_values = df_node_property['Memory'].values\n",
    "tsk_values = df_node_property['tsk'].values\n",
    "\n",
    "# Values\n",
    "df_general_results = pd.read_excel(file, 'General-Results')\n",
    "node_names_general_results = df_node_property['Node Name'].values\n",
    "x_values = df_general_results['Data Size'].values\n",
    "y_values = df_general_results['Total-time'].values\n",
    "\n",
    "#===========================================================\n",
    "#                   Initializing Variables\n",
    "#===========================================================\n",
    "\n",
    "# Genom Variable\n",
    "nodenames = np.unique(node_names_node_property)\n",
    "genome_names = genomes_df['GenomeName'].values\n",
    "number_of_gens = len(genome_names)\n",
    "size_of_genes = genomes_df['Size'].values\n",
    "Job_max = number_of_gens\n",
    "\n",
    "# Genetic Algorithm parameters\n",
    "population_number=20\n",
    "MutationRate= 0.4\n",
    "CrossoverRate= 1 - MutationRate\n",
    "maxIter = 120\n",
    "MutationNumber = round (population_number* MutationRate);\n",
    "CrossoverNumber = round (population_number * CrossoverRate);"
   ]
  },
  {
   "cell_type": "code",
   "execution_count": 144,
   "id": "837abdf3",
   "metadata": {},
   "outputs": [],
   "source": [
    "\n",
    "\"\"\"\n",
    "overall Functions\n",
    "\"\"\"\n",
    "def sol(df_general_results):\n",
    "    Solutions_polynominal = {}\n",
    "    Solutions_logarithmic = {}\n",
    "    Solutions_spline = {}\n",
    "\n",
    "    for name in nodenames:\n",
    "        df = df_general_results[df_general_results['Node Name'] == name]\n",
    "        x_values = df['Data Size'].values\n",
    "        y_values = df['Total-time'].values\n",
    "        \n",
    "        unique_x, unique_indices = np.unique(x_values, return_index=True)\n",
    "        unique_y = y_values[unique_indices]\n",
    "\n",
    "        sorted_indices = np.argsort(unique_x)\n",
    "        x_sorted = unique_x[sorted_indices]\n",
    "        y_sorted = unique_y[sorted_indices]\n",
    "        Solutions_spline[name] = spline_fitting(x_sorted, y_sorted)\n",
    "        Solutions_logarithmic[name] = log_fitting(x_sorted, y_sorted)\n",
    "        Solutions_polynominal[name] = polynominal_fitting(x_sorted, y_sorted)\n",
    "    \n",
    "    return Solutions_polynominal, Solutions_logarithmic, Solutions_spline\n"
   ]
  },
  {
   "cell_type": "code",
   "execution_count": 145,
   "id": "44f60e31",
   "metadata": {},
   "outputs": [],
   "source": [
    "from scipy.interpolate import CubicSpline, interp1d\n",
    "\n",
    "\n",
    "def spline_fitting(x_values, y_values):\n",
    "\n",
    "    linear_interp = interp1d(x_values, y_values, kind='linear')\n",
    "    \n",
    "    quadratic_interp = interp1d(x_values, y_values, kind='quadratic')\n",
    "    \n",
    "    cubic_spline = CubicSpline(x_values, y_values)\n",
    "\n",
    "    # Values for the interpolated functions\n",
    "    y_linear = linear_interp(x_values)\n",
    "    y_quadratic = quadratic_interp(x_values)\n",
    "    y_cubic = cubic_spline(x_values)\n",
    "\n",
    "    mse_linear = mean_squared_error(y_values, y_linear)\n",
    "    mse_quadratic = mean_squared_error(y_values, y_quadratic)\n",
    "    mse_cubic = mean_squared_error(y_values, y_cubic)\n",
    "    \n",
    "    return y_linear, y_quadratic, y_cubic, np.array([mse_linear, mse_quadratic, mse_cubic])\n",
    "\n",
    "\n",
    "def find_optimum_spline(Solutions):\n",
    "    Optimum = {}\n",
    "    for name in nodenames:\n",
    "        _,_,_, mse = Solutions[name]\n",
    "        min_index = mse.argmin()\n",
    "        Optimum[name] = min_index, mse[min_index], Solutions[name][min_index]\n",
    "\n",
    "    return Optimum\n",
    "      "
   ]
  },
  {
   "cell_type": "code",
   "execution_count": 146,
   "id": "d8ecf5d5",
   "metadata": {},
   "outputs": [
    {
     "name": "stdout",
     "output_type": "stream",
     "text": [
      "{201: (0, 3.1554436208840474e-31, array([0.04, 4.62]), array([4.7 , 4.74, 4.78, 4.82, 4.86])), 202: (3, 8.480254731125877e-30, array([-4.16666667e-04,  1.58333333e-02, -2.04583333e-01,  1.44916667e+00,\n",
      "       -6.00000000e-01]), array([1.6 , 2.3 , 2.83, 3.25, 3.61])), 203: (3, 4.1020767071492615e-30, array([-4.16666667e-04,  1.75000000e-02, -2.39583333e-01,  1.83250000e+00,\n",
      "        7.70000000e-01]), array([3.61, 4.55, 5.28, 5.87, 6.38]))}\n"
     ]
    },
    {
     "data": {
      "text/plain": [
       "{201: (0,\n",
       "  3.1554436208840474e-31,\n",
       "  array([0.04, 4.62]),\n",
       "  array([4.7 , 4.74, 4.78, 4.82, 4.86])),\n",
       " 202: (3,\n",
       "  8.480254731125877e-30,\n",
       "  array([-4.16666667e-04,  1.58333333e-02, -2.04583333e-01,  1.44916667e+00,\n",
       "         -6.00000000e-01]),\n",
       "  array([1.6 , 2.3 , 2.83, 3.25, 3.61])),\n",
       " 203: (3,\n",
       "  4.1020767071492615e-30,\n",
       "  array([-4.16666667e-04,  1.75000000e-02, -2.39583333e-01,  1.83250000e+00,\n",
       "          7.70000000e-01]),\n",
       "  array([3.61, 4.55, 5.28, 5.87, 6.38]))}"
      ]
     },
     "execution_count": 146,
     "metadata": {},
     "output_type": "execute_result"
    }
   ],
   "source": [
    "def polynomial_fit(x, y, degree):\n",
    "    coefficients = np.polyfit(x, y, degree)\n",
    "    estimated_y = np.polyval(coefficients, x)\n",
    "    return mean_squared_error(y, estimated_y), coefficients, estimated_y\n",
    "\n",
    "def polynominal_fitting(x_values, y_values):\n",
    "    mse_list = np.empty(4)\n",
    "    y_array = np.empty((4, len(y_values)))\n",
    "    coeff_list = {}\n",
    "    \n",
    "    for i in range(1,5):\n",
    "        mse, coeff, est_y = polynomial_fit(x_values, y_values, i)\n",
    "        mse_list[i-1] = mse\n",
    "        y_array[i-1] = est_y\n",
    "        coeff_list[i-1] = coeff\n",
    "        \n",
    "    return y_array, coeff_list, mse_list\n",
    "    \n",
    "\n",
    "def find_optimum_polynominal(solutions):\n",
    "    Optimum = {}\n",
    "    for name in nodenames:\n",
    "        est_y, coeff, mse = solutions[name]\n",
    "        min_index = mse.argmin()\n",
    "        Optimum[name] = min_index, mse[min_index], coeff[min_index], est_y[min_index]\n",
    "\n",
    "    return Optimum"
   ]
  },
  {
   "cell_type": "code",
   "execution_count": null,
   "id": "88695dcc",
   "metadata": {},
   "outputs": [],
   "source": [
    "from scipy.optimize import curve_fit\n",
    "\n",
    "def logarithmic_function(x, a, b):\n",
    "    return a * np.log(x) + b\n",
    "\n",
    "def log_fitting(x_values, y_values):\n",
    "    coeff, _ = curve_fit(logarithmic_function, x_values, y_values)\n",
    "    est_y = np.array(logarithmic_function(x_values, coeff[0], coeff[1]))\n",
    "    \n",
    "    return est_y, np.array(coeff), mean_squared_error(est_y, y_values)"
   ]
  },
  {
   "cell_type": "code",
   "execution_count": null,
   "id": "ae115698",
   "metadata": {},
   "outputs": [],
   "source": [
    "def find_overall_optimum(Solutions_polynominal, Solutions_logarithmic, Solutions_spline):\n",
    "    opt_spline = find_optimum_spline(Solutions_spline)\n",
    "    opt_poly = find_optimum_polynominal(Solutions_polynominal)\n",
    "    \n",
    "    for name in nodenames:\n",
    "        min_index_spline, mse_spline, y_spline = opt_spline[name]\n",
    "        min_index_poly, mse_pol, coeff_pol, y_poly = opt_poly[name]\n",
    "        y_log, coeff_log, mse_log = Solutions_logarithmic[name]\n",
    "        \n",
    "        \n",
    "        \n",
    "    "
   ]
  }
 ],
 "metadata": {
  "kernelspec": {
   "display_name": "Python 3",
   "language": "python",
   "name": "python3"
  },
  "language_info": {
   "codemirror_mode": {
    "name": "ipython",
    "version": 3
   },
   "file_extension": ".py",
   "mimetype": "text/x-python",
   "name": "python",
   "nbconvert_exporter": "python",
   "pygments_lexer": "ipython3",
   "version": "3.11.3"
  }
 },
 "nbformat": 4,
 "nbformat_minor": 5
}
