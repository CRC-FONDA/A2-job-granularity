{
 "cells": [
  {
   "cell_type": "code",
   "execution_count": 137,
   "metadata": {},
   "outputs": [],
   "source": [
    "import pandas as pd\n",
    "import numpy as np\n",
    "import tensorflow as tf\n",
    "from sklearn.metrics import mean_squared_error\n",
    "from pathlib import Path"
   ]
  },
  {
   "cell_type": "code",
   "execution_count": 138,
   "metadata": {},
   "outputs": [],
   "source": [
    "def give_me_x_and_y_per_node(df_general_results, name):\n",
    "    #take data from the df\n",
    "    df = df_general_results[df_general_results['Node Name'] == name]\n",
    "\n",
    "    x_values = df['Data Size'].values\n",
    "    y_values = df['Total-time'].values\n",
    "\n",
    "    # filter out non unique values\n",
    "    unique_x, unique_indices = np.unique(x_values, return_index=True)\n",
    "    unique_y = y_values[unique_indices]\n",
    "\n",
    "    #sort values (for easier fitting and interpolation)\n",
    "    sorted_indices = np.argsort(unique_x)\n",
    "\n",
    "    return unique_x[sorted_indices], unique_y[sorted_indices]\n",
    "\n",
    "\n",
    "def build_big(name_list):\n",
    "    result = pd.DataFrame({'Node Name': np.empty(1), 'Total-time': np.empty(1), 'Data Size': np.empty(1)})\n",
    "    for path in name_list:\n",
    "        test = pd.read_csv(path, sep='\\t')\n",
    "        test_general_results = test[['Node Name', 'Total-time', 'Data Size']]\n",
    "        result = pd.concat([result, test_general_results])\n",
    "    \n",
    "    return result"
   ]
  },
  {
   "cell_type": "code",
   "execution_count": 139,
   "metadata": {},
   "outputs": [],
   "source": [
    "path_finals = [Path(\"/Users/manuez42/Desktop/fonda/A2-job-granularity/MG-HIBF/general_results_fonda/general_results_viral500m.tsv\"),\n",
    "               Path(\"/Users/manuez42/Desktop/fonda/A2-job-granularity/MG-HIBF/general_results_fonda/general_results_human9g.tsv\"),\n",
    "               Path(\"/Users/manuez42/Desktop/fonda/A2-job-granularity/MG-HIBF/general_results_fonda/general_results_archea1.4g.tsv\"),\n",
    "               Path(\"/Users/manuez42/Desktop/fonda/A2-job-granularity/MG-HIBF/general_results_fonda/general_results_bacteria30g.tsv\"),\n",
    "               Path(\"/Users/manuez42/Desktop/fonda/A2-job-granularity/MG-HIBF/general_results_fonda/general_results_bacteria58g.tsv\"),\n",
    "               Path(\"/Users/manuez42/Desktop/fonda/A2-job-granularity/MG-HIBF/general_results_fonda/general_results_bacteria88g.tsv\"),\n",
    "               Path(\"/Users/manuez42/Desktop/fonda/A2-job-granularity/MG-HIBF/general_results_fonda/general_results_bacteria125g.tsv\")]\n",
    "\n",
    "def x_y(all_data, test_nodenames):\n",
    "    x,y = [0], [0]\n",
    "    while(len(x) < 10 or len(y) <10):\n",
    "        name = np.random.choice(test_nodenames, 1)\n",
    "        x,y = give_me_x_and_y_per_node(all_data, name[0])\n",
    "    return x, y\n",
    "\n",
    "all_data = build_big(path_finals)\n",
    "test_nodenames = np.unique(all_data['Node Name'].values)\n",
    "name = np.random.choice(test_nodenames, 1)\n",
    "\n",
    "x,y = x_y(all_data, test_nodenames)"
   ]
  },
  {
   "cell_type": "code",
   "execution_count": 140,
   "metadata": {},
   "outputs": [
    {
     "name": "stdout",
     "output_type": "stream",
     "text": [
      "5/5 [==============================] - 0s 1ms/step\n",
      "Accuracy for model: 7784.562\n",
      "Loss: 0.0\n",
      "Mean Squared Error on Test Data: 522069.60011158895\n",
      "X:  [ 1.6  4.8  6.8  7.3  7.6  7.7 11.  12.  13.  18. ]  len= 151\n",
      "y_pred:  [[0.]\n",
      " [0.]\n",
      " [0.]\n",
      " [0.]\n",
      " [0.]\n",
      " [0.]\n",
      " [0.]\n",
      " [0.]\n",
      " [0.]\n",
      " [0.]]  len= 151\n",
      "Y:  [1.7647 3.4547 4.026  4.0773 4.1744 4.3086 6.0559 6.0429 9.2126 7.8885]  len= 151\n"
     ]
    }
   ],
   "source": [
    "# test = pd.read_csv('../general_results_fonda/general_results_bacteria125g.tsv', sep='\\t')\n",
    "# test_general_results = test[['Node Name', 'Total-time', 'Data Size']]\n",
    "# test_nodenames = np.unique(test['Node Name'].values)\n",
    "\n",
    "model = tf.keras.Sequential()\n",
    "model.add(tf.keras.Input(shape=(1,)))\n",
    "model.add(tf.keras.layers.Dense(3, activation=\"relu\", use_bias=True))\n",
    "model.add(tf.keras.layers.Dense(3, activation=\"relu\", use_bias=True))\n",
    "model.add(tf.keras.layers.Dense(3, activation=\"relu\", use_bias=True))\n",
    "model.add(tf.keras.layers.Dense(1, activation=\"linear\", use_bias=True))\n",
    "model.compile(loss='binary_crossentropy', optimizer=tf.keras.optimizers.RMSprop(20), metrics=['accuracy'])\n",
    "model.fit(x, y, epochs=100, verbose=0, validation_split=0.2)\n",
    "\n",
    "accuracy, loss = model.evaluate(x, y, verbose=0)\n",
    "y_pred = model.predict(x)\n",
    "mse = mean_squared_error(y, y_pred)\n",
    "\n",
    "print(\"Accuracy for model:\", \"%0.3f\" % accuracy)\n",
    "print(\"Loss:\", loss)\n",
    "print(\"Mean Squared Error on Test Data:\", mse)\n",
    "print(\"X: \", x[:10], \" len=\", len(x))\n",
    "print(\"y_pred: \",y_pred[:10], \" len=\", len(y_pred))\n",
    "print(\"Y: \",y[:10], \" len=\", len(y))"
   ]
  },
  {
   "cell_type": "code",
   "execution_count": 141,
   "metadata": {},
   "outputs": [
    {
     "name": "stdout",
     "output_type": "stream",
     "text": [
      "5/5 [==============================] - 0s 1ms/step\n",
      "Loss: [7784.56201171875, 0.0]\n",
      "Mean Squared Error on Test Data: 4264860.233615223\n",
      "X:  [ 1.6  4.8  6.8  7.3  7.6  7.7 11.  12.  13.  18. ]  len= 151\n",
      "y_pred:  [[ -2.7416503]\n",
      " [ -8.224952 ]\n",
      " [-11.652015 ]\n",
      " [-12.5087805]\n",
      " [-13.02284  ]\n",
      " [-13.194192 ]\n",
      " [-18.848846 ]\n",
      " [-20.562378 ]\n",
      " [-22.27591  ]\n",
      " [-30.843567 ]]  len= 151\n",
      "Y:  [1.7647 3.4547 4.026  4.0773 4.1744 4.3086 6.0559 6.0429 9.2126 7.8885]  len= 151\n"
     ]
    }
   ],
   "source": [
    "model = tf.keras.Sequential([\n",
    "    tf.keras.layers.Dense(units=1, input_shape=(1,), activation='linear', use_bias=True)\n",
    "])\n",
    "model.compile(optimizer=tf.keras.optimizers.SGD(learning_rate=50), loss='binary_crossentropy', metrics=['accuracy'])\n",
    "model.fit(x, y, epochs=300, verbose=0, validation_split=0.2)\n",
    "\n",
    "loss = model.evaluate(x, y, verbose=0)\n",
    "y_pred = model.predict(x)\n",
    "mse = mean_squared_error(y, y_pred)\n",
    "\n",
    "# print(\"Accuracy for model:\", \"%0.3f\" % accuracy)\n",
    "print(\"Loss:\", loss)\n",
    "print(\"Mean Squared Error on Test Data:\", mse)\n",
    "print(\"X: \", x[:10], \" len=\", len(x))\n",
    "print(\"y_pred: \",y_pred[:10], \" len=\", len(y_pred))\n",
    "print(\"Y: \",y[:10], \" len=\", len(y))"
   ]
  },
  {
   "cell_type": "code",
   "execution_count": 142,
   "metadata": {},
   "outputs": [],
   "source": [
    "model = tf.keras.Sequential([\n",
    "    tf.keras.layers.Dense(units=4, activation='relu', input_shape=(1,)),\n",
    "    tf.keras.layers.Dense(units=8, activation='relu'),\n",
    "    tf.keras.layers.Dense(units=16, activation='relu'),\n",
    "    tf.keras.layers.Dense(units=32, activation='relu'),\n",
    "    tf.keras.layers.Dense(units=64, activation='relu'),\n",
    "    tf.keras.layers.Dense(units=128, activation='relu'),\n",
    "    tf.keras.layers.Dense(units=64, activation='relu'),\n",
    "    tf.keras.layers.Dense(units=32, activation='relu'),\n",
    "    tf.keras.layers.Dense(units=16, activation='relu'),\n",
    "    tf.keras.layers.Dense(units=8, activation='relu'),\n",
    "    tf.keras.layers.Dense(units=1, activation='relu')\n",
    "])\n",
    "\n",
    "model.compile(optimizer='adam', loss='binary_crossentropy', metrics=['accuracy'])\n",
    "model.fit(x, y, epochs=1000, verbose=0, validation_split=0.2)\n",
    "\n",
    "loss = model.evaluate(x, y, verbose=0)\n",
    "y_pred = model.predict(x)\n",
    "mse = mean_squared_error(y, y_pred)\n",
    "\n",
    "# print(\"Accuracy for model:\", \"%0.3f\" % accuracy)\n",
    "print(\"Loss:\", loss)\n",
    "print(\"Mean Squared Error on Test Data:\", mse)\n",
    "print(\"X: \", x[:10], \" len=\", len(x))\n",
    "print(\"y_pred: \",y_pred[:10], \" len=\", len(y_pred))\n",
    "print(\"Y: \",y[:10], \" len=\", len(y))"
   ]
  }
 ],
 "metadata": {
  "kernelspec": {
   "display_name": "Python 3",
   "language": "python",
   "name": "python3"
  },
  "language_info": {
   "codemirror_mode": {
    "name": "ipython",
    "version": 3
   },
   "file_extension": ".py",
   "mimetype": "text/x-python",
   "name": "python",
   "nbconvert_exporter": "python",
   "pygments_lexer": "ipython3",
   "version": "3.11.3"
  },
  "orig_nbformat": 4
 },
 "nbformat": 4,
 "nbformat_minor": 2
}
